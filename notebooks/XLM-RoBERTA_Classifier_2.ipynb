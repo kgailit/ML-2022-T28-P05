{
  "cells": [
    {
      "cell_type": "code",
      "execution_count": 1,
      "metadata": {
        "colab": {
          "base_uri": "https://localhost:8080/"
        },
        "id": "-OSR609XrmlM",
        "outputId": "9ec7b832-18c4-4fc1-fe90-82b5d9f398a8"
      },
      "outputs": [
        {
          "output_type": "stream",
          "name": "stdout",
          "text": [
            "Mounted at /content/drive\n"
          ]
        }
      ],
      "source": [
        "from google.colab import drive\n",
        "drive.mount('/content/drive')"
      ]
    },
    {
      "cell_type": "code",
      "execution_count": 2,
      "metadata": {
        "colab": {
          "base_uri": "https://localhost:8080/"
        },
        "id": "LhlHIeO5K443",
        "outputId": "3a42b581-142c-43b2-bbf8-854655edc974"
      },
      "outputs": [
        {
          "output_type": "stream",
          "name": "stdout",
          "text": [
            "\u001b[K     |████████████████████████████████| 4.9 MB 38.8 MB/s \n",
            "\u001b[K     |████████████████████████████████| 498.0 MB 11 kB/s \n",
            "\u001b[K     |████████████████████████████████| 5.8 MB 60.5 MB/s \n",
            "\u001b[K     |████████████████████████████████| 1.4 MB 65.8 MB/s \n",
            "\u001b[K     |████████████████████████████████| 462 kB 77.7 MB/s \n",
            "\u001b[?25h"
          ]
        }
      ],
      "source": [
        "# A dependency of the preprocessing for BERT inputs\n",
        "!pip install -q -U \"tensorflow-text==2.8.*\""
      ]
    },
    {
      "cell_type": "code",
      "execution_count": 3,
      "metadata": {
        "colab": {
          "base_uri": "https://localhost:8080/"
        },
        "id": "Y07Vop9VUJlK",
        "outputId": "c889a865-7ded-4ec7-edeb-6c5ee529665b"
      },
      "outputs": [
        {
          "output_type": "stream",
          "name": "stdout",
          "text": [
            "\u001b[K     |████████████████████████████████| 1.8 MB 38.2 MB/s \n",
            "\u001b[K     |████████████████████████████████| 238 kB 76.1 MB/s \n",
            "\u001b[K     |████████████████████████████████| 352 kB 69.5 MB/s \n",
            "\u001b[K     |████████████████████████████████| 1.1 MB 59.1 MB/s \n",
            "\u001b[K     |████████████████████████████████| 43 kB 1.3 MB/s \n",
            "\u001b[K     |████████████████████████████████| 118 kB 15.3 MB/s \n",
            "\u001b[K     |████████████████████████████████| 1.3 MB 10.2 MB/s \n",
            "\u001b[?25h  Building wheel for seqeval (setup.py) ... \u001b[?25l\u001b[?25hdone\n"
          ]
        }
      ],
      "source": [
        "!pip install -q tf-models-official==2.7.0"
      ]
    },
    {
      "cell_type": "code",
      "execution_count": 4,
      "metadata": {
        "colab": {
          "base_uri": "https://localhost:8080/"
        },
        "id": "pxmrsOJCZ0Q1",
        "outputId": "4f25397d-f3d3-456a-d6a1-a612aa762419"
      },
      "outputs": [
        {
          "output_type": "stream",
          "name": "stderr",
          "text": [
            "/usr/local/lib/python3.8/dist-packages/tensorflow_addons/utils/ensure_tf_install.py:53: UserWarning: Tensorflow Addons supports using Python ops for all Tensorflow versions above or equal to 2.9.0 and strictly below 2.12.0 (nightly versions are not supported). \n",
            " The versions of TensorFlow you are currently using is 2.8.4 and is not supported. \n",
            "Some things might work, some things might not.\n",
            "If you were to encounter a bug, do not file an issue.\n",
            "If you want to make sure you're using a tested and supported configuration, either change the TensorFlow version or the TensorFlow Addons's version. \n",
            "You can find the compatibility matrix in TensorFlow Addon's readme:\n",
            "https://github.com/tensorflow/addons\n",
            "  warnings.warn(\n"
          ]
        }
      ],
      "source": [
        "import os\n",
        "import shutil\n",
        "\n",
        "import tensorflow as tf\n",
        "import tensorflow_hub as hub\n",
        "import tensorflow_text as text\n",
        "from official.nlp import optimization  # to create AdamW optimizer\n",
        "\n",
        "import matplotlib.pyplot as plt\n",
        "\n",
        "tf.get_logger().setLevel('ERROR')\n",
        "\n",
        "from keras import backend as K \n",
        "from natsort import natsorted"
      ]
    },
    {
      "cell_type": "code",
      "execution_count": 5,
      "metadata": {
        "id": "bo19QGpw72Ek"
      },
      "outputs": [],
      "source": [
        "import pandas as pd\n",
        "\n",
        "train_all = pd.read_csv('drive/MyDrive/ML/texts_with_skills_one-hot.csv', sep = \"|\", encoding = \"UTF-8\")"
      ]
    },
    {
      "cell_type": "code",
      "execution_count": 6,
      "metadata": {
        "id": "6vH0t1_mFqA_"
      },
      "outputs": [],
      "source": [
        "#train_all.head()"
      ]
    },
    {
      "cell_type": "code",
      "execution_count": 7,
      "metadata": {
        "id": "WqQ_jFw_Fh54"
      },
      "outputs": [],
      "source": [
        "train_all_X = train_all['text']"
      ]
    },
    {
      "cell_type": "code",
      "execution_count": 8,
      "metadata": {
        "id": "3KkUIhg1F13M"
      },
      "outputs": [],
      "source": [
        "#bert_preprocess_model = hub.KerasLayer('https://tfhub.dev/jeongukjae/xlm_roberta_multi_cased_preprocess/1')"
      ]
    },
    {
      "cell_type": "code",
      "execution_count": 9,
      "metadata": {
        "id": "9B911nvEz9H7"
      },
      "outputs": [],
      "source": [
        "#text_preprocessed = bert_preprocess_model(train_all_X)"
      ]
    },
    {
      "cell_type": "code",
      "execution_count": 10,
      "metadata": {
        "id": "x8QQDSGMzhXr"
      },
      "outputs": [],
      "source": [
        "#bert_model = hub.KerasLayer('https://tfhub.dev/jeongukjae/xlm_roberta_multi_cased_L-12_H-768_A-12/1')"
      ]
    },
    {
      "cell_type": "code",
      "execution_count": 11,
      "metadata": {
        "id": "ivJZSwmnDsqe"
      },
      "outputs": [],
      "source": [
        "def build_classifier_model():\n",
        "  text_input = tf.keras.layers.Input(shape=(), dtype=tf.string, name='text')\n",
        "  preprocessing_layer = hub.KerasLayer('https://tfhub.dev/jeongukjae/xlm_roberta_multi_cased_preprocess/1', name='preprocessing')\n",
        "  encoder_inputs = preprocessing_layer(text_input)\n",
        "  encoder = hub.KerasLayer('https://tfhub.dev/jeongukjae/xlm_roberta_multi_cased_L-12_H-768_A-12/1', trainable=True, name='BERT_encoder')\n",
        "  outputs = encoder(encoder_inputs)\n",
        "  net = outputs['pooled_output']\n",
        "  net = tf.keras.layers.Dropout(0.1)(net)\n",
        "  net = tf.keras.layers.Dense(1, activation=None, name='classifier')(net)\n",
        "  return tf.keras.Model(text_input, net)"
      ]
    },
    {
      "cell_type": "code",
      "execution_count": 12,
      "metadata": {
        "id": "JKuHCUrYFa_u"
      },
      "outputs": [],
      "source": [
        "#classifier_model = build_classifier_model()"
      ]
    },
    {
      "cell_type": "code",
      "execution_count": 13,
      "metadata": {
        "id": "6-14N6X_I-Y3"
      },
      "outputs": [],
      "source": [
        "#loss = tf.keras.losses.BinaryCrossentropy(from_logits=True)\n",
        "#metrics = tf.metrics.BinaryAccuracy()"
      ]
    },
    {
      "cell_type": "code",
      "execution_count": 14,
      "metadata": {
        "id": "2MmToAmtI_C5"
      },
      "outputs": [],
      "source": [
        "#epochs = 10\n",
        "#steps_per_epoch = 64\n",
        "#num_train_steps = steps_per_epoch * epochs\n",
        "#num_warmup_steps = int(0.1*num_train_steps)\n",
        "\n",
        "#init_lr = 3e-5\n",
        "#optimizer = optimization.create_optimizer(init_lr=init_lr,\n",
        "#                                          num_train_steps=num_train_steps,\n",
        "#                                          num_warmup_steps=num_warmup_steps,\n",
        "#                                          optimizer_type='adamw')"
      ]
    },
    {
      "cell_type": "code",
      "execution_count": 15,
      "metadata": {
        "id": "xA37eGaTJBMx"
      },
      "outputs": [],
      "source": [
        "#classifier_model.compile(optimizer=optimizer,\n",
        "#                         loss=loss,\n",
        "#                         metrics=metrics)"
      ]
    },
    {
      "cell_type": "code",
      "execution_count": 16,
      "metadata": {
        "id": "TxQhGrzNeKX9"
      },
      "outputs": [],
      "source": [
        "#history = classifier_model.fit(x = train_all_X, y = train_0_y, epochs = epochs)"
      ]
    },
    {
      "cell_type": "markdown",
      "metadata": {
        "id": "DVMvzsUJmShn"
      },
      "source": [
        "Test"
      ]
    },
    {
      "cell_type": "code",
      "execution_count": 17,
      "metadata": {
        "id": "mWEBv8W6iw8G"
      },
      "outputs": [],
      "source": [
        "test_all = pd.read_csv('drive/MyDrive/ML/test_texts_with_ids.csv', sep = \"|\", encoding = \"UTF-8\")"
      ]
    },
    {
      "cell_type": "code",
      "execution_count": 18,
      "metadata": {
        "id": "EeczsGfSmWVx"
      },
      "outputs": [],
      "source": [
        "test_texts = test_all[\"text\"]"
      ]
    },
    {
      "cell_type": "code",
      "execution_count": 19,
      "metadata": {
        "id": "MzGvDYXmnFqb"
      },
      "outputs": [],
      "source": [
        "#for i in tf.sigmoid(classifier_model(tf.constant(test_texts))):\n",
        "#    print(i)"
      ]
    },
    {
      "cell_type": "markdown",
      "metadata": {
        "id": "a9Ugvauy4357"
      },
      "source": []
    },
    {
      "cell_type": "code",
      "execution_count": 20,
      "metadata": {
        "id": "-w8HEs0543F8"
      },
      "outputs": [],
      "source": [
        "to_drop = []\n",
        "\n",
        "directory = 'drive/MyDrive/ML/preds'\n",
        "\n",
        "for filename in natsorted(os.listdir(directory)):\n",
        "    f = os.path.join(directory, filename)\n",
        "    # checking if it is a file\n",
        "    if os.path.isfile(f):\n",
        "        skill = f.strip().split(\".\")[0].split(\"_\")[-1]\n",
        "        to_drop.append(skill)\n",
        "\n",
        "skill_list = train_all.keys().drop('text').drop(to_drop).tolist()"
      ]
    },
    {
      "cell_type": "code",
      "execution_count": 21,
      "metadata": {
        "colab": {
          "base_uri": "https://localhost:8080/"
        },
        "id": "lfDmiSVq53kY",
        "outputId": "ad620b2e-3c67-45ac-f84d-3e44a9747e77"
      },
      "outputs": [
        {
          "output_type": "stream",
          "name": "stdout",
          "text": [
            "Class = s8\n",
            "Epoch 1/5\n",
            "7/7 [==============================] - 23s 925ms/step - loss: 0.6900 - binary_accuracy: 0.9163\n",
            "Epoch 2/5\n",
            "7/7 [==============================] - 7s 990ms/step - loss: 0.6784 - binary_accuracy: 0.9163\n",
            "Epoch 3/5\n",
            "7/7 [==============================] - 7s 939ms/step - loss: 0.6987 - binary_accuracy: 0.9163\n",
            "Epoch 4/5\n",
            "7/7 [==============================] - 7s 971ms/step - loss: 0.6986 - binary_accuracy: 0.9163\n",
            "Epoch 5/5\n",
            "7/7 [==============================] - 7s 982ms/step - loss: 0.7097 - binary_accuracy: 0.9163\n",
            "Done\n",
            "Class = s9\n",
            "Epoch 1/5\n",
            "7/7 [==============================] - 21s 945ms/step - loss: 0.7139 - binary_accuracy: 0.9458\n",
            "Epoch 2/5\n",
            "7/7 [==============================] - 7s 961ms/step - loss: 0.6830 - binary_accuracy: 0.9458\n",
            "Epoch 3/5\n",
            "7/7 [==============================] - 7s 933ms/step - loss: 0.7234 - binary_accuracy: 0.9458\n",
            "Epoch 4/5\n",
            "7/7 [==============================] - 7s 967ms/step - loss: 0.6600 - binary_accuracy: 0.9458\n",
            "Epoch 5/5\n",
            "7/7 [==============================] - 7s 997ms/step - loss: 0.5464 - binary_accuracy: 0.9064\n",
            "Done\n"
          ]
        }
      ],
      "source": [
        "skills_in_test = []\n",
        "\n",
        "for skill in skill_list:\n",
        "    K.clear_session()\n",
        "    tf.keras.backend.clear_session()\n",
        "    \n",
        "    print(\"Class =\", skill)\n",
        "    classifier_model = build_classifier_model()\n",
        "    loss = tf.keras.losses.BinaryCrossentropy(from_logits=True)\n",
        "    metrics = tf.metrics.BinaryAccuracy()\n",
        "\n",
        "    epochs = 5\n",
        "    steps_per_epoch = 64\n",
        "    num_train_steps = steps_per_epoch * epochs\n",
        "    num_warmup_steps = int(0.1*num_train_steps)\n",
        "\n",
        "    init_lr = 3e-5\n",
        "    optimizer = optimization.create_optimizer(init_lr=init_lr,\n",
        "                                            num_train_steps=num_train_steps,\n",
        "                                            num_warmup_steps=num_warmup_steps,\n",
        "                                            optimizer_type='adamw')\n",
        "    \n",
        "    classifier_model.compile(optimizer=optimizer,\n",
        "                            loss=loss,\n",
        "                            metrics=metrics)\n",
        "    \n",
        "    train_y = train_all[skill]\n",
        "\n",
        "    total = len(train_y)\n",
        "    pos = train_y.value_counts()[1]\n",
        "    neg = train_y.value_counts()[0]\n",
        "\n",
        "    weight_for_0 = (1 / neg) * (total / 2.0)\n",
        "    weight_for_1 = (1 / pos) * (total / 2.0)\n",
        "\n",
        "    class_weight = {0: weight_for_0, 1: weight_for_1}\n",
        "\n",
        "    history = classifier_model.fit(x = train_all_X, y = train_y, epochs = epochs, class_weight = class_weight)\n",
        "\n",
        "    filename = \"drive/MyDrive/ML/preds/test_preds_\" + skill + \".txt\"\n",
        "    with open(filename, 'w') as fp:\n",
        "        for item in tf.sigmoid(classifier_model(tf.constant(test_texts))).numpy().tolist():\n",
        "            fp.write(\"%s\\n\" % item[0])\n",
        "        print('Done')\n",
        "\n",
        "    del classifier_model\n",
        "    K.clear_session()"
      ]
    },
    {
      "cell_type": "markdown",
      "metadata": {
        "id": "hDNNV5zfEgbb"
      },
      "source": []
    },
    {
      "cell_type": "code",
      "execution_count": 22,
      "metadata": {
        "id": "AvkOaWFLEhB8"
      },
      "outputs": [],
      "source": [
        "import os\n",
        "from natsort import natsorted\n",
        "# assign directory\n",
        "directory = 'drive/MyDrive/ML/preds'\n",
        "\n",
        "skills_preds = pd.DataFrame()\n",
        "\n",
        "# iterate over files in\n",
        "# that directory\n",
        "for filename in natsorted(os.listdir(directory)):\n",
        "    f = os.path.join(directory, filename)\n",
        "    # checking if it is a file\n",
        "    if os.path.isfile(f):\n",
        "        skill = f.strip().split(\".\")[0].split(\"_\")[-1]\n",
        "        with open(f) as file:\n",
        "          df = file.readlines()\n",
        "          skills_preds[skill] = [float(i) for i in df]"
      ]
    },
    {
      "cell_type": "code",
      "execution_count": 23,
      "metadata": {
        "id": "S_3IQXKoLfAJ"
      },
      "outputs": [],
      "source": [
        "truths = pd.concat([test_all.drop('text', axis = 1), skills_preds >= 0.5], axis = 1)"
      ]
    },
    {
      "cell_type": "code",
      "execution_count": 24,
      "metadata": {
        "id": "A9TplvAQNzJX"
      },
      "outputs": [],
      "source": [
        "thingie = []\n",
        "\n",
        "for index, row in truths.iterrows():\n",
        "  id = row['text_id']\n",
        "\n",
        "  skl = row.drop('text_id')\n",
        "\n",
        "  true_skills = skl[skl == True]\n",
        "  \n",
        "  if len(true_skills) == 0:\n",
        "    highest_idx = skills_preds.iloc[index].idxmax()\n",
        "    true_skills = [highest_idx]\n",
        "  else:\n",
        "    true_skills = true_skills.keys().to_list()\n",
        "\n",
        "  skill_list = \" \".join(true_skills)\n",
        "  thingie.append(\",\".join([id, skill_list]))"
      ]
    },
    {
      "cell_type": "code",
      "execution_count": 25,
      "metadata": {
        "id": "pqBvEoDcPiKC"
      },
      "outputs": [],
      "source": [
        "with open(\"drive/MyDrive/ML/XLM_RoBERTa_5e_withBest.csv\", \"w\") as file:\n",
        "  file.write(\"text_id,skills\\n\")\n",
        "  for line in thingie:\n",
        "    file.write(line)\n",
        "    file.write(\"\\n\")"
      ]
    }
  ],
  "metadata": {
    "accelerator": "GPU",
    "colab": {
      "provenance": []
    },
    "gpuClass": "standard",
    "kernelspec": {
      "display_name": "Python 3",
      "name": "python3"
    },
    "language_info": {
      "name": "python"
    }
  },
  "nbformat": 4,
  "nbformat_minor": 0
}