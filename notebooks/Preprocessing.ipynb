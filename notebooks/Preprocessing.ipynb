{
  "nbformat": 4,
  "nbformat_minor": 0,
  "metadata": {
    "colab": {
      "provenance": [],
      "collapsed_sections": []
    },
    "kernelspec": {
      "name": "python3",
      "display_name": "Python 3"
    },
    "language_info": {
      "name": "python"
    }
  },
  "cells": [
    {
      "cell_type": "code",
      "source": [
        "!pip install estnltk==1.7.1"
      ],
      "metadata": {
        "colab": {
          "base_uri": "https://localhost:8080/",
          "height": 1000
        },
        "id": "TYd7B7LsAsZ9",
        "outputId": "dfb9de11-2488-4d23-c29f-afa65b92cc0d"
      },
      "execution_count": 2,
      "outputs": [
        {
          "output_type": "stream",
          "name": "stdout",
          "text": [
            "Looking in indexes: https://pypi.org/simple, https://us-python.pkg.dev/colab-wheels/public/simple/\n",
            "Collecting estnltk==1.7.1\n",
            "  Downloading estnltk-1.7.1-cp37-cp37m-manylinux_2_17_x86_64.manylinux2014_x86_64.whl (83.4 MB)\n",
            "\u001b[K     |████████████████████████████████| 83.4 MB 53 kB/s \n",
            "\u001b[?25hCollecting python-crfsuite>=0.8.3\n",
            "  Downloading python_crfsuite-0.9.8-cp37-cp37m-manylinux_2_17_x86_64.manylinux2014_x86_64.whl (965 kB)\n",
            "\u001b[K     |████████████████████████████████| 965 kB 55.9 MB/s \n",
            "\u001b[?25hRequirement already satisfied: cached-property>=1.2.0 in /usr/local/lib/python3.7/dist-packages (from estnltk==1.7.1) (1.5.2)\n",
            "Requirement already satisfied: matplotlib<=3.5.3 in /usr/local/lib/python3.7/dist-packages (from estnltk==1.7.1) (3.2.2)\n",
            "Requirement already satisfied: requests in /usr/local/lib/python3.7/dist-packages (from estnltk==1.7.1) (2.23.0)\n",
            "Requirement already satisfied: nltk>=3.4.1 in /usr/local/lib/python3.7/dist-packages (from estnltk==1.7.1) (3.7)\n",
            "Requirement already satisfied: bs4 in /usr/local/lib/python3.7/dist-packages (from estnltk==1.7.1) (0.0.1)\n",
            "Collecting estnltk-core\n",
            "  Downloading estnltk_core-1.7.0-py3-none-any.whl (195 kB)\n",
            "\u001b[K     |████████████████████████████████| 195 kB 55.2 MB/s \n",
            "\u001b[?25hRequirement already satisfied: lxml in /usr/local/lib/python3.7/dist-packages (from estnltk==1.7.1) (4.9.1)\n",
            "Collecting conllu\n",
            "  Downloading conllu-4.5.2-py2.py3-none-any.whl (16 kB)\n",
            "Collecting pyahocorasick\n",
            "  Downloading pyahocorasick-1.4.4-cp37-cp37m-manylinux_2_17_x86_64.manylinux2014_x86_64.whl (106 kB)\n",
            "\u001b[K     |████████████████████████████████| 106 kB 57.2 MB/s \n",
            "\u001b[?25hRequirement already satisfied: networkx<=2.6.3 in /usr/local/lib/python3.7/dist-packages (from estnltk==1.7.1) (2.6.3)\n",
            "Requirement already satisfied: ipython<=7.32.0 in /usr/local/lib/python3.7/dist-packages (from estnltk==1.7.1) (7.9.0)\n",
            "Requirement already satisfied: tqdm in /usr/local/lib/python3.7/dist-packages (from estnltk==1.7.1) (4.64.1)\n",
            "Requirement already satisfied: pandas in /usr/local/lib/python3.7/dist-packages (from estnltk==1.7.1) (1.3.5)\n",
            "Requirement already satisfied: html5lib in /usr/local/lib/python3.7/dist-packages (from estnltk==1.7.1) (1.0.1)\n",
            "Requirement already satisfied: regex>=2015.07.19 in /usr/local/lib/python3.7/dist-packages (from estnltk==1.7.1) (2022.6.2)\n",
            "Requirement already satisfied: pickleshare in /usr/local/lib/python3.7/dist-packages (from ipython<=7.32.0->estnltk==1.7.1) (0.7.5)\n",
            "Requirement already satisfied: traitlets>=4.2 in /usr/local/lib/python3.7/dist-packages (from ipython<=7.32.0->estnltk==1.7.1) (5.1.1)\n",
            "Collecting jedi>=0.10\n",
            "  Downloading jedi-0.18.1-py2.py3-none-any.whl (1.6 MB)\n",
            "\u001b[K     |████████████████████████████████| 1.6 MB 51.2 MB/s \n",
            "\u001b[?25hRequirement already satisfied: decorator in /usr/local/lib/python3.7/dist-packages (from ipython<=7.32.0->estnltk==1.7.1) (4.4.2)\n",
            "Requirement already satisfied: pygments in /usr/local/lib/python3.7/dist-packages (from ipython<=7.32.0->estnltk==1.7.1) (2.6.1)\n",
            "Requirement already satisfied: backcall in /usr/local/lib/python3.7/dist-packages (from ipython<=7.32.0->estnltk==1.7.1) (0.2.0)\n",
            "Requirement already satisfied: pexpect in /usr/local/lib/python3.7/dist-packages (from ipython<=7.32.0->estnltk==1.7.1) (4.8.0)\n",
            "Requirement already satisfied: prompt-toolkit<2.1.0,>=2.0.0 in /usr/local/lib/python3.7/dist-packages (from ipython<=7.32.0->estnltk==1.7.1) (2.0.10)\n",
            "Requirement already satisfied: setuptools>=18.5 in /usr/local/lib/python3.7/dist-packages (from ipython<=7.32.0->estnltk==1.7.1) (57.4.0)\n",
            "Requirement already satisfied: parso<0.9.0,>=0.8.0 in /usr/local/lib/python3.7/dist-packages (from jedi>=0.10->ipython<=7.32.0->estnltk==1.7.1) (0.8.3)\n",
            "Requirement already satisfied: cycler>=0.10 in /usr/local/lib/python3.7/dist-packages (from matplotlib<=3.5.3->estnltk==1.7.1) (0.11.0)\n",
            "Requirement already satisfied: python-dateutil>=2.1 in /usr/local/lib/python3.7/dist-packages (from matplotlib<=3.5.3->estnltk==1.7.1) (2.8.2)\n",
            "Requirement already satisfied: kiwisolver>=1.0.1 in /usr/local/lib/python3.7/dist-packages (from matplotlib<=3.5.3->estnltk==1.7.1) (1.4.4)\n",
            "Requirement already satisfied: numpy>=1.11 in /usr/local/lib/python3.7/dist-packages (from matplotlib<=3.5.3->estnltk==1.7.1) (1.21.6)\n",
            "Requirement already satisfied: pyparsing!=2.0.4,!=2.1.2,!=2.1.6,>=2.0.1 in /usr/local/lib/python3.7/dist-packages (from matplotlib<=3.5.3->estnltk==1.7.1) (3.0.9)\n",
            "Requirement already satisfied: typing-extensions in /usr/local/lib/python3.7/dist-packages (from kiwisolver>=1.0.1->matplotlib<=3.5.3->estnltk==1.7.1) (4.1.1)\n",
            "Requirement already satisfied: joblib in /usr/local/lib/python3.7/dist-packages (from nltk>=3.4.1->estnltk==1.7.1) (1.2.0)\n",
            "Requirement already satisfied: click in /usr/local/lib/python3.7/dist-packages (from nltk>=3.4.1->estnltk==1.7.1) (7.1.2)\n",
            "Requirement already satisfied: wcwidth in /usr/local/lib/python3.7/dist-packages (from prompt-toolkit<2.1.0,>=2.0.0->ipython<=7.32.0->estnltk==1.7.1) (0.2.5)\n",
            "Requirement already satisfied: six>=1.9.0 in /usr/local/lib/python3.7/dist-packages (from prompt-toolkit<2.1.0,>=2.0.0->ipython<=7.32.0->estnltk==1.7.1) (1.15.0)\n",
            "Requirement already satisfied: beautifulsoup4 in /usr/local/lib/python3.7/dist-packages (from bs4->estnltk==1.7.1) (4.6.3)\n",
            "Collecting numpy>=1.11\n",
            "  Downloading numpy-1.21.5-cp37-cp37m-manylinux_2_12_x86_64.manylinux2010_x86_64.whl (15.7 MB)\n",
            "\u001b[K     |████████████████████████████████| 15.7 MB 26.1 MB/s \n",
            "\u001b[?25hRequirement already satisfied: pytz>=2017.3 in /usr/local/lib/python3.7/dist-packages (from pandas->estnltk==1.7.1) (2022.6)\n",
            "Requirement already satisfied: webencodings in /usr/local/lib/python3.7/dist-packages (from html5lib->estnltk==1.7.1) (0.5.1)\n",
            "Requirement already satisfied: ptyprocess>=0.5 in /usr/local/lib/python3.7/dist-packages (from pexpect->ipython<=7.32.0->estnltk==1.7.1) (0.7.0)\n",
            "Requirement already satisfied: certifi>=2017.4.17 in /usr/local/lib/python3.7/dist-packages (from requests->estnltk==1.7.1) (2022.9.24)\n",
            "Requirement already satisfied: urllib3!=1.25.0,!=1.25.1,<1.26,>=1.21.1 in /usr/local/lib/python3.7/dist-packages (from requests->estnltk==1.7.1) (1.24.3)\n",
            "Requirement already satisfied: chardet<4,>=3.0.2 in /usr/local/lib/python3.7/dist-packages (from requests->estnltk==1.7.1) (3.0.4)\n",
            "Requirement already satisfied: idna<3,>=2.5 in /usr/local/lib/python3.7/dist-packages (from requests->estnltk==1.7.1) (2.10)\n",
            "Installing collected packages: numpy, jedi, python-crfsuite, pyahocorasick, estnltk-core, conllu, estnltk\n",
            "  Attempting uninstall: numpy\n",
            "    Found existing installation: numpy 1.21.6\n",
            "    Uninstalling numpy-1.21.6:\n",
            "      Successfully uninstalled numpy-1.21.6\n",
            "Successfully installed conllu-4.5.2 estnltk-1.7.1 estnltk-core-1.7.0 jedi-0.18.1 numpy-1.21.5 pyahocorasick-1.4.4 python-crfsuite-0.9.8\n"
          ]
        },
        {
          "output_type": "display_data",
          "data": {
            "application/vnd.colab-display-data+json": {
              "pip_warning": {
                "packages": [
                  "numpy"
                ]
              }
            }
          },
          "metadata": {}
        }
      ]
    },
    {
      "cell_type": "code",
      "execution_count": 3,
      "metadata": {
        "id": "gA25cKwv-i3M"
      },
      "outputs": [],
      "source": [
        "import pandas as pd\n",
        "import re\n",
        "from estnltk import Text\n",
        "\n",
        "texts = pd.read_csv('texts_about_skills.csv')"
      ]
    },
    {
      "cell_type": "code",
      "source": [
        "texts"
      ],
      "metadata": {
        "colab": {
          "base_uri": "https://localhost:8080/",
          "height": 485
        },
        "id": "6HlSz5ne7EaW",
        "outputId": "bdfbce6c-821f-4e0a-ef09-d847ba4b089e"
      },
      "execution_count": 27,
      "outputs": [
        {
          "output_type": "execute_result",
          "data": {
            "text/plain": [
              "     text_id  \\\n",
              "0      text0   \n",
              "1      text1   \n",
              "2      text2   \n",
              "3      text3   \n",
              "4      text4   \n",
              "..       ...   \n",
              "321  text321   \n",
              "322  text322   \n",
              "323  text323   \n",
              "324  text324   \n",
              "325  text325   \n",
              "\n",
              "                                                                                                                                                                                                                                                                                                                                             text  \n",
              "0    Võistlusülesande lahendamiseks vajalikud erialased teadmised ja oskused: elektroonikakomponentide formeerimine ja paigaldamine trükkplaadile, elektroonikakomponentide trükkplaadilt maha jootmine, elektroonikakomponentide trükkplaadile jootmine, jooteseadmete kasutamine, jootematerjalide kasutamine, elektroonikakomponentide ohutus.  \n",
              "1                                                                                                                                                                                 Võistlusülesandena tuli elektroonikutel etteantud komponentidest kokku monteerida pindmontaaž- ja läbiviiktehnoloogiaid kasutav elektroonikaseadme trükkplaat.   \n",
              "2                                                                                                                                                                                                                           See on väga hea ja positiivne alus, kust kõrgemaid probleemilahenduse ja tehnoloogia kasutuse oskusi edasi arendada.   \n",
              "3                                                                                                                                                                                                                           “Töövõtted ja ohutustehnika olid kõigil võistlejatel selged ja nende eest said kõik maksimumpunktid,” tunnustas Kolk.  \n",
              "4                                                                                                                                                                         Enamasti on nendeks pigem eraisikud ja väikese suurusega ettevõtjad, kel tihti puudub ka oskus, võimekus ja eelarve oma dokumentide pikaajalise turvalisuse tagamiseks.  \n",
              "..                                                                                                                                                                                                                                                                                                                                            ...  \n",
              "321                                                                                                                                                                                                                     Ettevõtjate hinnangul vajavad koolilõpetajate puhul arendamist jooniste lugemise, ruumilise mõtlemise ja montaažioskused.  \n",
              "322                                                                                                                                                                                                             Ettevõtjate hinnangul vajavad ka siin koolilõpetajate puhul arendamist jooniste lugemise, ruumilise mõtlemise ja montaažioskused.  \n",
              "323                                                                                                                                                                                                                                                                Erialastest oskustest vajavad arendamist jooniste lugemise ja montaažioskused.  \n",
              "324                                                                                                                                                                               Olulisemaks muutub oskus töötada samaaegselt erinevate seadmetega, kuna IKT-lahenduste kasutuselevõtt võimaldab ühel inimesel töötada korraga mitmel tööpingil.  \n",
              "325                                                                                                                                                                                                                               Seoses valdkonna kiire arenguga on pidev vajadus erialaseid oskusi täiendada, õppida juurde uusi tehnoloogiaid.  \n",
              "\n",
              "[326 rows x 2 columns]"
            ],
            "text/html": [
              "\n",
              "  <div id=\"df-518150a0-c7c4-4131-93ce-dd108e339594\">\n",
              "    <div class=\"colab-df-container\">\n",
              "      <div>\n",
              "<style scoped>\n",
              "    .dataframe tbody tr th:only-of-type {\n",
              "        vertical-align: middle;\n",
              "    }\n",
              "\n",
              "    .dataframe tbody tr th {\n",
              "        vertical-align: top;\n",
              "    }\n",
              "\n",
              "    .dataframe thead th {\n",
              "        text-align: right;\n",
              "    }\n",
              "</style>\n",
              "<table border=\"1\" class=\"dataframe\">\n",
              "  <thead>\n",
              "    <tr style=\"text-align: right;\">\n",
              "      <th></th>\n",
              "      <th>text_id</th>\n",
              "      <th>text</th>\n",
              "    </tr>\n",
              "  </thead>\n",
              "  <tbody>\n",
              "    <tr>\n",
              "      <th>0</th>\n",
              "      <td>text0</td>\n",
              "      <td>Võistlusülesande lahendamiseks vajalikud erialased teadmised ja oskused: elektroonikakomponentide formeerimine ja paigaldamine trükkplaadile, elektroonikakomponentide trükkplaadilt maha jootmine, elektroonikakomponentide trükkplaadile jootmine, jooteseadmete kasutamine, jootematerjalide kasutamine, elektroonikakomponentide ohutus.</td>\n",
              "    </tr>\n",
              "    <tr>\n",
              "      <th>1</th>\n",
              "      <td>text1</td>\n",
              "      <td>Võistlusülesandena tuli elektroonikutel etteantud komponentidest kokku monteerida pindmontaaž- ja läbiviiktehnoloogiaid kasutav elektroonikaseadme trükkplaat.</td>\n",
              "    </tr>\n",
              "    <tr>\n",
              "      <th>2</th>\n",
              "      <td>text2</td>\n",
              "      <td>See on väga hea ja positiivne alus, kust kõrgemaid probleemilahenduse ja tehnoloogia kasutuse oskusi edasi arendada.</td>\n",
              "    </tr>\n",
              "    <tr>\n",
              "      <th>3</th>\n",
              "      <td>text3</td>\n",
              "      <td>“Töövõtted ja ohutustehnika olid kõigil võistlejatel selged ja nende eest said kõik maksimumpunktid,” tunnustas Kolk.</td>\n",
              "    </tr>\n",
              "    <tr>\n",
              "      <th>4</th>\n",
              "      <td>text4</td>\n",
              "      <td>Enamasti on nendeks pigem eraisikud ja väikese suurusega ettevõtjad, kel tihti puudub ka oskus, võimekus ja eelarve oma dokumentide pikaajalise turvalisuse tagamiseks.</td>\n",
              "    </tr>\n",
              "    <tr>\n",
              "      <th>...</th>\n",
              "      <td>...</td>\n",
              "      <td>...</td>\n",
              "    </tr>\n",
              "    <tr>\n",
              "      <th>321</th>\n",
              "      <td>text321</td>\n",
              "      <td>Ettevõtjate hinnangul vajavad koolilõpetajate puhul arendamist jooniste lugemise, ruumilise mõtlemise ja montaažioskused.</td>\n",
              "    </tr>\n",
              "    <tr>\n",
              "      <th>322</th>\n",
              "      <td>text322</td>\n",
              "      <td>Ettevõtjate hinnangul vajavad ka siin koolilõpetajate puhul arendamist jooniste lugemise, ruumilise mõtlemise ja montaažioskused.</td>\n",
              "    </tr>\n",
              "    <tr>\n",
              "      <th>323</th>\n",
              "      <td>text323</td>\n",
              "      <td>Erialastest oskustest vajavad arendamist jooniste lugemise ja montaažioskused.</td>\n",
              "    </tr>\n",
              "    <tr>\n",
              "      <th>324</th>\n",
              "      <td>text324</td>\n",
              "      <td>Olulisemaks muutub oskus töötada samaaegselt erinevate seadmetega, kuna IKT-lahenduste kasutuselevõtt võimaldab ühel inimesel töötada korraga mitmel tööpingil.</td>\n",
              "    </tr>\n",
              "    <tr>\n",
              "      <th>325</th>\n",
              "      <td>text325</td>\n",
              "      <td>Seoses valdkonna kiire arenguga on pidev vajadus erialaseid oskusi täiendada, õppida juurde uusi tehnoloogiaid.</td>\n",
              "    </tr>\n",
              "  </tbody>\n",
              "</table>\n",
              "<p>326 rows × 2 columns</p>\n",
              "</div>\n",
              "      <button class=\"colab-df-convert\" onclick=\"convertToInteractive('df-518150a0-c7c4-4131-93ce-dd108e339594')\"\n",
              "              title=\"Convert this dataframe to an interactive table.\"\n",
              "              style=\"display:none;\">\n",
              "        \n",
              "  <svg xmlns=\"http://www.w3.org/2000/svg\" height=\"24px\"viewBox=\"0 0 24 24\"\n",
              "       width=\"24px\">\n",
              "    <path d=\"M0 0h24v24H0V0z\" fill=\"none\"/>\n",
              "    <path d=\"M18.56 5.44l.94 2.06.94-2.06 2.06-.94-2.06-.94-.94-2.06-.94 2.06-2.06.94zm-11 1L8.5 8.5l.94-2.06 2.06-.94-2.06-.94L8.5 2.5l-.94 2.06-2.06.94zm10 10l.94 2.06.94-2.06 2.06-.94-2.06-.94-.94-2.06-.94 2.06-2.06.94z\"/><path d=\"M17.41 7.96l-1.37-1.37c-.4-.4-.92-.59-1.43-.59-.52 0-1.04.2-1.43.59L10.3 9.45l-7.72 7.72c-.78.78-.78 2.05 0 2.83L4 21.41c.39.39.9.59 1.41.59.51 0 1.02-.2 1.41-.59l7.78-7.78 2.81-2.81c.8-.78.8-2.07 0-2.86zM5.41 20L4 18.59l7.72-7.72 1.47 1.35L5.41 20z\"/>\n",
              "  </svg>\n",
              "      </button>\n",
              "      \n",
              "  <style>\n",
              "    .colab-df-container {\n",
              "      display:flex;\n",
              "      flex-wrap:wrap;\n",
              "      gap: 12px;\n",
              "    }\n",
              "\n",
              "    .colab-df-convert {\n",
              "      background-color: #E8F0FE;\n",
              "      border: none;\n",
              "      border-radius: 50%;\n",
              "      cursor: pointer;\n",
              "      display: none;\n",
              "      fill: #1967D2;\n",
              "      height: 32px;\n",
              "      padding: 0 0 0 0;\n",
              "      width: 32px;\n",
              "    }\n",
              "\n",
              "    .colab-df-convert:hover {\n",
              "      background-color: #E2EBFA;\n",
              "      box-shadow: 0px 1px 2px rgba(60, 64, 67, 0.3), 0px 1px 3px 1px rgba(60, 64, 67, 0.15);\n",
              "      fill: #174EA6;\n",
              "    }\n",
              "\n",
              "    [theme=dark] .colab-df-convert {\n",
              "      background-color: #3B4455;\n",
              "      fill: #D2E3FC;\n",
              "    }\n",
              "\n",
              "    [theme=dark] .colab-df-convert:hover {\n",
              "      background-color: #434B5C;\n",
              "      box-shadow: 0px 1px 3px 1px rgba(0, 0, 0, 0.15);\n",
              "      filter: drop-shadow(0px 1px 2px rgba(0, 0, 0, 0.3));\n",
              "      fill: #FFFFFF;\n",
              "    }\n",
              "  </style>\n",
              "\n",
              "      <script>\n",
              "        const buttonEl =\n",
              "          document.querySelector('#df-518150a0-c7c4-4131-93ce-dd108e339594 button.colab-df-convert');\n",
              "        buttonEl.style.display =\n",
              "          google.colab.kernel.accessAllowed ? 'block' : 'none';\n",
              "\n",
              "        async function convertToInteractive(key) {\n",
              "          const element = document.querySelector('#df-518150a0-c7c4-4131-93ce-dd108e339594');\n",
              "          const dataTable =\n",
              "            await google.colab.kernel.invokeFunction('convertToInteractive',\n",
              "                                                     [key], {});\n",
              "          if (!dataTable) return;\n",
              "\n",
              "          const docLinkHtml = 'Like what you see? Visit the ' +\n",
              "            '<a target=\"_blank\" href=https://colab.research.google.com/notebooks/data_table.ipynb>data table notebook</a>'\n",
              "            + ' to learn more about interactive tables.';\n",
              "          element.innerHTML = '';\n",
              "          dataTable['output_type'] = 'display_data';\n",
              "          await google.colab.output.renderOutput(dataTable, element);\n",
              "          const docLink = document.createElement('div');\n",
              "          docLink.innerHTML = docLinkHtml;\n",
              "          element.appendChild(docLink);\n",
              "        }\n",
              "      </script>\n",
              "    </div>\n",
              "  </div>\n",
              "  "
            ]
          },
          "metadata": {},
          "execution_count": 27
        }
      ]
    },
    {
      "cell_type": "code",
      "source": [
        "raw_text = texts['text'].values\n",
        "ids = texts['text_id'].values\n",
        "raw_text[2]"
      ],
      "metadata": {
        "colab": {
          "base_uri": "https://localhost:8080/",
          "height": 35
        },
        "id": "Obf6n718_xFr",
        "outputId": "2693d104-473f-491a-ae24-ae6a2fe73742"
      },
      "execution_count": 28,
      "outputs": [
        {
          "output_type": "execute_result",
          "data": {
            "text/plain": [
              "'See on väga hea ja positiivne alus, kust kõrgemaid probleemilahenduse ja tehnoloogia kasutuse oskusi edasi arendada. '"
            ],
            "application/vnd.google.colaboratory.intrinsic+json": {
              "type": "string"
            }
          },
          "metadata": {},
          "execution_count": 28
        }
      ]
    },
    {
      "cell_type": "markdown",
      "source": [
        "##Loading stopword files in"
      ],
      "metadata": {
        "id": "PQ3JJJeGSP37"
      }
    },
    {
      "cell_type": "code",
      "source": [
        "# opening files in read mode\n",
        "stopwords = open(\"estonian-stopwords.txt\", \"r\", encoding=\"utf-8\")\n",
        "stopwords_lemmas = open(\"estonian-stopwords-lemmas.txt\", \"r\", encoding=\"utf-8\")\n",
        "  \n",
        "# reading files\n",
        "stop_data = stopwords.read()\n",
        "stop_lemma_data = stopwords_lemmas.read()\n",
        "  \n",
        "# replacing end splitting the text when newline ('\\n') is seen.\n",
        "stop = stop_data.split(\"\\n\")\n",
        "stop_lemmas = stop_lemma_data.split(\"\\n\")\n",
        "\n",
        "#close the files\n",
        "stopwords.close()\n",
        "stopwords_lemmas.close()"
      ],
      "metadata": {
        "id": "o3x7AxM_NInm"
      },
      "execution_count": 5,
      "outputs": []
    },
    {
      "cell_type": "markdown",
      "source": [
        "##Lemmatized, punctuation separate from word, all lowercase"
      ],
      "metadata": {
        "id": "Go7CEVt8LTXm"
      }
    },
    {
      "cell_type": "code",
      "source": [
        "lemmatized_text = [] #here are the texts in lemmatized fashion, punctuation is separated from the word, all lowercase \n",
        "lemmas_lists = [] #here are lists of all the lemmatized words per text, each word (including punct) is an element in the list\n",
        "\n",
        "for text in raw_text:\n",
        "  string = \"\"\n",
        "  lemmas = []\n",
        "  txt = Text(text)\n",
        "  txt.tag_layer()\n",
        "  for word in txt.words: #by word\n",
        "    string += word.lemma[0] + \" \" #can have multiple lemmas, but lets just take the first for simplicity\n",
        "    lemmas.append(word.lemma[0])\n",
        "  lemmatized_text.append(string)\n",
        "  lemmas_lists.append(lemmas)"
      ],
      "metadata": {
        "id": "4ZkleXAaBbx2",
        "colab": {
          "base_uri": "https://localhost:8080/"
        },
        "outputId": "e28b44da-302e-4dbd-fa8e-1502a1cf8675"
      },
      "execution_count": 6,
      "outputs": [
        {
          "output_type": "stream",
          "name": "stderr",
          "text": [
            "[nltk_data] Downloading package punkt to /root/nltk_data...\n",
            "[nltk_data]   Unzipping tokenizers/punkt.zip.\n"
          ]
        }
      ]
    },
    {
      "cell_type": "code",
      "source": [
        "lemmatized_text[2]"
      ],
      "metadata": {
        "colab": {
          "base_uri": "https://localhost:8080/",
          "height": 35
        },
        "id": "qrf29csmRJNo",
        "outputId": "a3eda27b-8f8f-4222-c417-e65a11aa0a3d"
      },
      "execution_count": 8,
      "outputs": [
        {
          "output_type": "execute_result",
          "data": {
            "text/plain": [
              "'see olema väga hea ja positiivne alus , kust kõrgem probleemilahendus ja tehnoloogia kasutus oskus edasi arendama . '"
            ],
            "application/vnd.google.colaboratory.intrinsic+json": {
              "type": "string"
            }
          },
          "metadata": {},
          "execution_count": 8
        }
      ]
    },
    {
      "cell_type": "code",
      "source": [
        "lemmas_lists[2]"
      ],
      "metadata": {
        "colab": {
          "base_uri": "https://localhost:8080/"
        },
        "id": "tE8tM8tVRShw",
        "outputId": "c0d90da6-6d6f-4d66-d166-105fd2107eff"
      },
      "execution_count": 29,
      "outputs": [
        {
          "output_type": "execute_result",
          "data": {
            "text/plain": [
              "['see',\n",
              " 'olema',\n",
              " 'väga',\n",
              " 'hea',\n",
              " 'ja',\n",
              " 'positiivne',\n",
              " 'alus',\n",
              " ',',\n",
              " 'kust',\n",
              " 'kõrgem',\n",
              " 'probleemilahendus',\n",
              " 'ja',\n",
              " 'tehnoloogia',\n",
              " 'kasutus',\n",
              " 'oskus',\n",
              " 'edasi',\n",
              " 'arendama',\n",
              " '.']"
            ]
          },
          "metadata": {},
          "execution_count": 29
        }
      ]
    },
    {
      "cell_type": "code",
      "source": [
        "lemma_df = pd.DataFrame(list(zip(ids, lemmas_lists)),\n",
        "               columns =['text_id', 'lemma_list'])\n",
        "lemma_df.to_csv('lemmas.csv', index=False)"
      ],
      "metadata": {
        "id": "9rEj89o76eaw"
      },
      "execution_count": 32,
      "outputs": []
    },
    {
      "cell_type": "markdown",
      "source": [
        "##Same as previous + stopwords removed"
      ],
      "metadata": {
        "id": "-MK7wF0aQyH2"
      }
    },
    {
      "cell_type": "code",
      "source": [
        "lemmatized_stop_text = [] #here are the lemmatized texts, punctuation is separated from the word, all lowercase, stopwords removed\n",
        "lemmas_stop_lists = [] #here are lists of all the lemmatized words per text, each word (including punct) is an element in the list, stopwords removed\n",
        "\n",
        "for text in raw_text:\n",
        "  string = \"\"\n",
        "  lemmas = []\n",
        "  txt = Text(text)\n",
        "  txt.tag_layer()\n",
        "  for word in txt.words: #by word\n",
        "    if word.lemma[0] not in stop_lemmas:\n",
        "      string += word.lemma[0] + \" \" #can have multiple lemmas, but lets just take the first for simplicity\n",
        "      lemmas.append(word.lemma[0])\n",
        "  lemmatized_stop_text.append(string)\n",
        "  lemmas_stop_lists.append(lemmas)"
      ],
      "metadata": {
        "id": "v87jgdZaMg2G"
      },
      "execution_count": 34,
      "outputs": []
    },
    {
      "cell_type": "code",
      "source": [
        "lemmatized_stop_text[2]"
      ],
      "metadata": {
        "colab": {
          "base_uri": "https://localhost:8080/",
          "height": 35
        },
        "id": "17T227O7QERG",
        "outputId": "f56e6694-4cb9-4626-d82f-088fc646ed33"
      },
      "execution_count": 35,
      "outputs": [
        {
          "output_type": "execute_result",
          "data": {
            "text/plain": [
              "'hea positiivne alus , kõrgem probleemilahendus tehnoloogia kasutus oskus arendama . '"
            ],
            "application/vnd.google.colaboratory.intrinsic+json": {
              "type": "string"
            }
          },
          "metadata": {},
          "execution_count": 35
        }
      ]
    },
    {
      "cell_type": "code",
      "source": [
        "lemmas_stop_lists[2]"
      ],
      "metadata": {
        "colab": {
          "base_uri": "https://localhost:8080/"
        },
        "id": "HkbheC9HRCrm",
        "outputId": "135c1088-428d-46f3-977f-6bcd0125ca32"
      },
      "execution_count": 36,
      "outputs": [
        {
          "output_type": "execute_result",
          "data": {
            "text/plain": [
              "['hea',\n",
              " 'positiivne',\n",
              " 'alus',\n",
              " ',',\n",
              " 'kõrgem',\n",
              " 'probleemilahendus',\n",
              " 'tehnoloogia',\n",
              " 'kasutus',\n",
              " 'oskus',\n",
              " 'arendama',\n",
              " '.']"
            ]
          },
          "metadata": {},
          "execution_count": 36
        }
      ]
    },
    {
      "cell_type": "code",
      "source": [
        "lemma_stop_df = pd.DataFrame(list(zip(ids, lemmas_stop_lists)),\n",
        "               columns =['text_id', 'lemma_stop_list'])\n",
        "lemma_stop_df.to_csv('lemmas_stopwords.csv', index=False)"
      ],
      "metadata": {
        "id": "5HR4zSrX8VKt"
      },
      "execution_count": 38,
      "outputs": []
    },
    {
      "cell_type": "markdown",
      "source": [
        "##Punctuation separated from word, not lemmatized, everything besides abbreviations and names is in lowercase"
      ],
      "metadata": {
        "id": "hPs3dcnmLjRz"
      }
    },
    {
      "cell_type": "code",
      "source": [
        "from estnltk.taggers import NerTagger\n",
        "ner_tagger = NerTagger()\n",
        "\n",
        "punctsplit_text = [] #here are the texts where punctuation is separated from the word\n",
        "punctsplit_lists = [] #here are lists of all the words per text\n",
        "\n",
        "for text in raw_text:\n",
        "  string = \"\"\n",
        "  words = []\n",
        "  txt = Text(text)\n",
        "  txt.tag_layer()\n",
        "  ner_tagger.tag(txt)\n",
        "  for word in txt.words: #by word\n",
        "    if word.partofspeech[0] == 'Y' or word.text in txt.ner.text: #if word is an abbreviation or name\n",
        "      string += word.text + \" \" #don't put it into lowercase\n",
        "      words.append(word.text)\n",
        "    else:\n",
        "      string += word.text.lower() + \" \"\n",
        "      words.append(word.text.lower())\n",
        "  punctsplit_text.append(string)\n",
        "  punctsplit_lists.append(words)"
      ],
      "metadata": {
        "id": "S58RoeDgJjOF"
      },
      "execution_count": 18,
      "outputs": []
    },
    {
      "cell_type": "code",
      "source": [
        "punctsplit_text[7]"
      ],
      "metadata": {
        "colab": {
          "base_uri": "https://localhost:8080/",
          "height": 52
        },
        "id": "2qhPg3MXRVx3",
        "outputId": "812da2ad-7a36-4421-a2f4-affcce6a53bd"
      },
      "execution_count": 19,
      "outputs": [
        {
          "output_type": "execute_result",
          "data": {
            "text/plain": [
              "'LIKTA kutsub inimesi kõigis kolmes Balti riigis üles osalema projekti “ virtual internships in the baltics ” raames tasuta digioskuste kursustel , pakkudes kokku 30 000 inimesele võimalust tasuta oma teadmisi parandada ja seeläbi tuleviku karjäärivõimalusi edendada . '"
            ],
            "application/vnd.google.colaboratory.intrinsic+json": {
              "type": "string"
            }
          },
          "metadata": {},
          "execution_count": 19
        }
      ]
    },
    {
      "cell_type": "code",
      "source": [
        "punctsplit_lists[7]"
      ],
      "metadata": {
        "colab": {
          "base_uri": "https://localhost:8080/"
        },
        "id": "H228LfauRb0Y",
        "outputId": "910bf7d1-ce02-4482-a398-ed01e6b1790c"
      },
      "execution_count": 20,
      "outputs": [
        {
          "output_type": "execute_result",
          "data": {
            "text/plain": [
              "['LIKTA',\n",
              " 'kutsub',\n",
              " 'inimesi',\n",
              " 'kõigis',\n",
              " 'kolmes',\n",
              " 'Balti',\n",
              " 'riigis',\n",
              " 'üles',\n",
              " 'osalema',\n",
              " 'projekti',\n",
              " '“',\n",
              " 'virtual',\n",
              " 'internships',\n",
              " 'in',\n",
              " 'the',\n",
              " 'baltics',\n",
              " '”',\n",
              " 'raames',\n",
              " 'tasuta',\n",
              " 'digioskuste',\n",
              " 'kursustel',\n",
              " ',',\n",
              " 'pakkudes',\n",
              " 'kokku',\n",
              " '30 000',\n",
              " 'inimesele',\n",
              " 'võimalust',\n",
              " 'tasuta',\n",
              " 'oma',\n",
              " 'teadmisi',\n",
              " 'parandada',\n",
              " 'ja',\n",
              " 'seeläbi',\n",
              " 'tuleviku',\n",
              " 'karjäärivõimalusi',\n",
              " 'edendada',\n",
              " '.']"
            ]
          },
          "metadata": {},
          "execution_count": 20
        }
      ]
    },
    {
      "cell_type": "code",
      "source": [
        "raw_df = pd.DataFrame(list(zip(ids, punctsplit_lists)),\n",
        "               columns =['text_id', 'list'])\n",
        "raw_df.to_csv('preprocessed.csv', index=False)"
      ],
      "metadata": {
        "id": "AXeXFC-28kzV"
      },
      "execution_count": 40,
      "outputs": []
    },
    {
      "cell_type": "markdown",
      "source": [
        "##Removed stopwords, not lemmatized, everything besides abbreviations and names is in lowercase\n"
      ],
      "metadata": {
        "id": "DXcgDTdzMVHo"
      }
    },
    {
      "cell_type": "code",
      "source": [
        "punctsplit_stop_text = [] #here are the texts where punctuation is separated from the word\n",
        "punctsplit_stop_lists = [] #here are lists of all the words per text\n",
        "ner_tagger = NerTagger()\n",
        "\n",
        "for text in raw_text:\n",
        "  string = \"\"\n",
        "  words = []\n",
        "  txt = Text(text)\n",
        "  txt.tag_layer()\n",
        "  ner_tagger.tag(txt)\n",
        "  for word in txt.words: #by word\n",
        "    if word.text.lower() not in stop:\n",
        "      if word.partofspeech[0] == 'Y' or word.text in txt.ner.text: #if word is an abbreviation or name\n",
        "        string += word.text + \" \" #don't put it into lowercase\n",
        "        words.append(word.text)\n",
        "      else:\n",
        "        string += word.text.lower() + \" \"\n",
        "        words.append(word.text.lower())\n",
        "  punctsplit_stop_text.append(string)\n",
        "  punctsplit_stop_lists.append(words)"
      ],
      "metadata": {
        "id": "tPg76YY5MZt_"
      },
      "execution_count": 22,
      "outputs": []
    },
    {
      "cell_type": "code",
      "source": [
        "punctsplit_stop_text[2]"
      ],
      "metadata": {
        "colab": {
          "base_uri": "https://localhost:8080/",
          "height": 35
        },
        "id": "6rSuvEylOeZ2",
        "outputId": "70975d87-6455-4282-f28a-96fda73f0488"
      },
      "execution_count": 26,
      "outputs": [
        {
          "output_type": "execute_result",
          "data": {
            "text/plain": [
              "'hea positiivne alus , kõrgemaid probleemilahenduse tehnoloogia kasutuse oskusi arendada . '"
            ],
            "application/vnd.google.colaboratory.intrinsic+json": {
              "type": "string"
            }
          },
          "metadata": {},
          "execution_count": 26
        }
      ]
    },
    {
      "cell_type": "code",
      "source": [
        "punctsplit_stop_lists[2]"
      ],
      "metadata": {
        "colab": {
          "base_uri": "https://localhost:8080/"
        },
        "id": "Axl7Y98vSDYn",
        "outputId": "80eb2e19-8e87-41e9-9cb4-bbd006d3559f"
      },
      "execution_count": 25,
      "outputs": [
        {
          "output_type": "execute_result",
          "data": {
            "text/plain": [
              "['hea',\n",
              " 'positiivne',\n",
              " 'alus',\n",
              " ',',\n",
              " 'kõrgemaid',\n",
              " 'probleemilahenduse',\n",
              " 'tehnoloogia',\n",
              " 'kasutuse',\n",
              " 'oskusi',\n",
              " 'arendada',\n",
              " '.']"
            ]
          },
          "metadata": {},
          "execution_count": 25
        }
      ]
    },
    {
      "cell_type": "code",
      "source": [
        "raw_stop_df = pd.DataFrame(list(zip(ids, punctsplit_stop_lists)),\n",
        "               columns =['text_id', 'stop_list'])\n",
        "raw_stop_df.to_csv('preprocessed_stopwords.csv', index=False)"
      ],
      "metadata": {
        "id": "9wAj6I0J8-b8"
      },
      "execution_count": 41,
      "outputs": []
    }
  ]
}